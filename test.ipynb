{
 "cells": [
  {
   "cell_type": "code",
   "execution_count": null,
   "metadata": {},
   "outputs": [],
   "source": [
    "import torch\n",
    "import torch.nn as nn\n",
    "from contextlib import contextmanager\n",
    "import time\n",
    "\n",
    "# 时间计算器\n",
    "@contextmanager\n",
    "def timed_block(label,loop = 1):\n",
    "    start = time.perf_counter()\n",
    "    try:\n",
    "        yield\n",
    "    finally:\n",
    "        end = time.perf_counter()\n",
    "        print(f\"{label} : {(end - start)/loop:.6f}s\")"
   ]
  },
  {
   "cell_type": "code",
   "execution_count": null,
   "metadata": {},
   "outputs": [],
   "source": [
    "# 模型定义\n",
    "# 线性层\n",
    "class LinearModel(nn.Module):\n",
    "    def __init__(self):\n",
    "        super(LinearModel, self).__init__()\n",
    "        # 使用浮点数类型\n",
    "        self.linear = nn.Linear(2048, 2048)  \n",
    "\n",
    "    def forward(self, x):\n",
    "        return self.linear(x)"
   ]
  },
  {
   "cell_type": "code",
   "execution_count": null,
   "metadata": {},
   "outputs": [],
   "source": [
    "# 前馈层\n",
    "class PositionWiseFFN(nn.Module):\n",
    "    def __init__(self, ffn_num_input=2048, ffn_num_hiddens=2048 , ffn_num_outputs=2048, **kwargs):\n",
    "        super(PositionWiseFFN, self).__init__(**kwargs)\n",
    "        self.dense1 = nn.Linear(ffn_num_input, ffn_num_hiddens)\n",
    "        self.relu = nn.ReLU()\n",
    "        self.dense2 = nn.Linear(ffn_num_hiddens, ffn_num_outputs)\n",
    "\n",
    "    def forward(self, X):\n",
    "        return self.dense2(self.relu(self.dense1(X)))\n",
    "    \n",
    "    def createdata(self,batch=128,seq=512,hidden=2048,dtype = torch.float32):\n",
    "        return torch.randn((batch,seq,hidden),dtype = dtype) "
   ]
  },
  {
   "cell_type": "code",
   "execution_count": null,
   "metadata": {},
   "outputs": [],
   "source": [
    "# infer\n",
    "\n",
    "# 参数修改\n",
    "dtype = torch.float32\n",
    "is_compression = True\n",
    "compression_dtype = torch.quint8\n",
    "device = torch.device(\"cpu\")\n",
    "# assert not(dtype == torch.float16 and is_compression) ,\"semi-precision and compression can't be used togther.\"\n",
    "\n",
    "\n",
    "with timed_block(\"total\"):\n",
    "    with timed_block(\"create model\"):\n",
    "        model = PositionWiseFFN(ffn_num_input = 2048, ffn_num_hiddens =2048 , ffn_num_outputs=2048)\n",
    "\n",
    "    with timed_block(\"model.half\"):    \n",
    "        if dtype == torch.float16:\n",
    "            model.half()\n",
    "    \n",
    "    with timed_block(\"model.quantization\"):  \n",
    "        if is_compression:\n",
    "            model = torch.quantization.quantize_dynamic(model, dtype=compression_dtype)\n",
    "        print(model)\n",
    "\n",
    "    with timed_block(\"model.to\"):\n",
    "        model.to(device)\n",
    "    \n",
    "    with timed_block(\"model.eval\"):\n",
    "        model.eval()\n",
    "    \n",
    "\n",
    "    with timed_block(\"create data\"):\n",
    "        # data = torch.randn(1000, 2048, dtype=dtype) \n",
    "        data = model.createdata(batch=128,seq=512,hidden=2048,dtype=dtype)\n",
    "\n",
    "    with timed_block(\"data.to\"):\n",
    "        data = data.to(device)\n",
    "\n",
    "    # 推理过程\n",
    "    num_epochs = 1\n",
    "    with timed_block(\"inference avg time\",num_epochs):\n",
    "        for epoch in range(num_epochs):\n",
    "            outputs = model(data)\n",
    "\n",
    "print(\"Inference {} {} Done!\".format(device, compression_dtype if is_compression else dtype))\n"
   ]
  },
  {
   "cell_type": "code",
   "execution_count": null,
   "metadata": {},
   "outputs": [],
   "source": []
  }
 ],
 "metadata": {
  "kernelspec": {
   "display_name": "pytorch1.12",
   "language": "python",
   "name": "python3"
  },
  "language_info": {
   "codemirror_mode": {
    "name": "ipython",
    "version": 3
   },
   "file_extension": ".py",
   "mimetype": "text/x-python",
   "name": "python",
   "nbconvert_exporter": "python",
   "pygments_lexer": "ipython3",
   "version": "3.8.8"
  }
 },
 "nbformat": 4,
 "nbformat_minor": 2
}
