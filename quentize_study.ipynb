{
 "cells": [
  {
   "cell_type": "code",
   "execution_count": 8,
   "metadata": {},
   "outputs": [
    {
     "name": "stdout",
     "output_type": "stream",
     "text": [
      "tensor([[0.9435, 0.8621, 0.4736],\n",
      "        [0.8787, 0.8310, 0.1041]])\n"
     ]
    }
   ],
   "source": [
    "import torch\n",
    "x = torch.rand(2,3, dtype=torch.float32)\n",
    "print(x)"
   ]
  },
  {
   "cell_type": "code",
   "execution_count": 9,
   "metadata": {},
   "outputs": [
    {
     "name": "stdout",
     "output_type": "stream",
     "text": [
      "tensor([[1.0000, 1.0000, 0.5000],\n",
      "        [1.0000, 1.0000, 0.0000]], size=(2, 3), dtype=torch.quint8,\n",
      "       quantization_scheme=torch.per_tensor_affine, scale=0.5, zero_point=128)\n"
     ]
    }
   ],
   "source": [
    "xq = torch.quantize_per_tensor(x, scale = 0.5, zero_point = 128, dtype=torch.quint8)\n",
    "# 这里打印的是张量的反量化表示\n",
    "print(xq)"
   ]
  },
  {
   "cell_type": "code",
   "execution_count": 10,
   "metadata": {},
   "outputs": [
    {
     "name": "stdout",
     "output_type": "stream",
     "text": [
      "tensor([[130, 130, 129],\n",
      "        [130, 130, 128]], dtype=torch.uint8)\n"
     ]
    }
   ],
   "source": [
    "# 这个表示张量实际存储的整数表示\n",
    "print(xq.int_repr())"
   ]
  },
  {
   "cell_type": "code",
   "execution_count": 11,
   "metadata": {},
   "outputs": [
    {
     "name": "stdout",
     "output_type": "stream",
     "text": [
      "tensor([[1.0000, 1.0000, 0.5000],\n",
      "        [1.0000, 1.0000, 0.0000]])\n"
     ]
    }
   ],
   "source": [
    "xdq = xq.dequantize()\n",
    "print(xdq)"
   ]
  },
  {
   "cell_type": "code",
   "execution_count": 12,
   "metadata": {},
   "outputs": [
    {
     "name": "stdout",
     "output_type": "stream",
     "text": [
      "CivilNet(\n",
      "  (conv): Conv2d(1, 1, kernel_size=(1, 1), stride=(1, 1), bias=False)\n",
      "  (fc): Linear(in_features=3, out_features=2, bias=False)\n",
      "  (relu): ReLU()\n",
      ")\n"
     ]
    }
   ],
   "source": [
    "from torch import nn\n",
    "\n",
    "class CivilNet(nn.Module):\n",
    "    def __init__(self):\n",
    "        super(CivilNet, self).__init__()\n",
    "        gemfieldin = 1\n",
    "        gemfieldout = 1\n",
    "        self.conv = nn.Conv2d(gemfieldin, gemfieldout, kernel_size=1, stride=1, padding=0, groups=1, bias=False)\n",
    "        self.fc = nn.Linear(3, 2,bias=False)\n",
    "        self.relu = nn.ReLU(inplace=False)\n",
    "\n",
    "    def forward(self, x):\n",
    "        x = self.conv(x)\n",
    "        x = self.fc(x)\n",
    "        x = self.relu(x)\n",
    "        return x\n",
    "civilnet = CivilNet()\n",
    "print(civilnet)"
   ]
  },
  {
   "cell_type": "code",
   "execution_count": 13,
   "metadata": {},
   "outputs": [
    {
     "name": "stdout",
     "output_type": "stream",
     "text": [
      "CivilNet(\n",
      "  (conv): Conv2d(1, 1, kernel_size=(1, 1), stride=(1, 1), bias=False)\n",
      "  (fc): Linear(in_features=3, out_features=2, bias=False)\n",
      "  (relu): ReLU()\n",
      ")\n",
      "CivilNet(\n",
      "  (conv): Conv2d(1, 1, kernel_size=(1, 1), stride=(1, 1), bias=False)\n",
      "  (fc): DynamicQuantizedLinear(in_features=3, out_features=2, dtype=torch.qint8, qscheme=torch.per_tensor_affine)\n",
      "  (relu): ReLU()\n",
      ")\n",
      "(tensor([[ 0.4815,  0.2541, -0.3433],\n",
      "        [-0.3076,  0.5217,  0.5662]], size=(2, 3), dtype=torch.qint8,\n",
      "       quantization_scheme=torch.per_tensor_affine, scale=0.00445860531181097,\n",
      "       zero_point=0), None)\n"
     ]
    }
   ],
   "source": [
    "# 不是原地操作\n",
    "# 这里使用定义在nnqd.Linear的from_float()方法，通过new_mod = mapping[type(mod)].from_float(mod)对新模型进行实例化\n",
    "q_civilnet = torch.quantization.quantize_dynamic(civilnet)\n",
    "print(civilnet)\n",
    "print(q_civilnet)\n",
    "print(q_civilnet.state_dict()['fc._packed_params._packed_params'])"
   ]
  },
  {
   "cell_type": "code",
   "execution_count": 14,
   "metadata": {},
   "outputs": [
    {
     "name": "stdout",
     "output_type": "stream",
     "text": [
      "CivilNet(\n",
      "  (conv): Conv2d(1, 1, kernel_size=(1, 1), stride=(1, 1), bias=False)\n",
      "  (fc): LinearReLU(\n",
      "    (0): Linear(in_features=3, out_features=2, bias=False)\n",
      "    (1): ReLU()\n",
      "  )\n",
      "  (relu): Identity()\n",
      ")\n"
     ]
    }
   ],
   "source": [
    "# fuse_model,原地操作\n",
    "torch.quantization.fuse_modules(civilnet,[['fc','relu']],inplace=True)\n",
    "print(civilnet)"
   ]
  },
  {
   "cell_type": "code",
   "execution_count": 15,
   "metadata": {},
   "outputs": [
    {
     "name": "stdout",
     "output_type": "stream",
     "text": [
      "CivilNet(\n",
      "  (conv): Conv2d(1, 1, kernel_size=(1, 1), stride=(1, 1), bias=False)\n",
      "  (fc): LinearReLU(\n",
      "    (0): Linear(in_features=3, out_features=2, bias=False)\n",
      "    (1): ReLU()\n",
      "  )\n",
      "  (relu): Identity()\n",
      ")\n"
     ]
    }
   ],
   "source": [
    "# 设置qconfig\n",
    "civilnet.qconfig = torch.quantization.get_default_qconfig('fbgemm')\n",
    "print(civilnet)"
   ]
  },
  {
   "cell_type": "code",
   "execution_count": 16,
   "metadata": {},
   "outputs": [
    {
     "name": "stdout",
     "output_type": "stream",
     "text": [
      "CivilNet(\n",
      "  (conv): Conv2d(\n",
      "    1, 1, kernel_size=(1, 1), stride=(1, 1), bias=False\n",
      "    (activation_post_process): HistogramObserver()\n",
      "  )\n",
      "  (fc): LinearReLU(\n",
      "    (0): Linear(in_features=3, out_features=2, bias=False)\n",
      "    (1): ReLU()\n",
      "    (activation_post_process): HistogramObserver()\n",
      "  )\n",
      "  (relu): Identity()\n",
      ")\n"
     ]
    },
    {
     "name": "stderr",
     "output_type": "stream",
     "text": [
      "/home/upa1/.conda/envs/pytorch1.12/lib/python3.9/site-packages/torch/ao/quantization/observer.py:176: UserWarning: Please use quant_min and quant_max to specify the range for observers.                     reduce_range will be deprecated in a future release of PyTorch.\n",
      "  warnings.warn(\n"
     ]
    }
   ],
   "source": [
    "# 设置prepare\n",
    "civilnet_prepared = torch.quantization.prepare(civilnet)\n",
    "print(civilnet_prepared)"
   ]
  },
  {
   "cell_type": "code",
   "execution_count": 18,
   "metadata": {},
   "outputs": [
    {
     "name": "stdout",
     "output_type": "stream",
     "text": [
      "CivilNet(\n",
      "  (conv): QuantizedConv2d(1, 1, kernel_size=(1, 1), stride=(1, 1), scale=1.0, zero_point=0, bias=False)\n",
      "  (fc): QuantizedLinearReLU(in_features=3, out_features=2, scale=1.0, zero_point=0, qscheme=torch.per_channel_affine)\n",
      "  (relu): Identity()\n",
      ")\n"
     ]
    },
    {
     "name": "stderr",
     "output_type": "stream",
     "text": [
      "/home/upa1/.conda/envs/pytorch1.12/lib/python3.9/site-packages/torch/ao/quantization/observer.py:1135: UserWarning: must run observer before calling calculate_qparams.                                    Returning default scale and zero point \n",
      "  warnings.warn(\n"
     ]
    }
   ],
   "source": [
    "civilnet_prepared_int8 = torch.quantization.convert(civilnet_prepared)\n",
    "print(civilnet_prepared_int8)"
   ]
  },
  {
   "cell_type": "code",
   "execution_count": null,
   "metadata": {},
   "outputs": [],
   "source": [
    "# QAT\n",
    "cnet = CivilNet()\n",
    "cnet.train()\n",
    "cnet.qconfig = torch.quantization.get_default_qat_qconfig('fbgemm')"
   ]
  }
 ],
 "metadata": {
  "kernelspec": {
   "display_name": "pytorch1.12",
   "language": "python",
   "name": "python3"
  },
  "language_info": {
   "codemirror_mode": {
    "name": "ipython",
    "version": 3
   },
   "file_extension": ".py",
   "mimetype": "text/x-python",
   "name": "python",
   "nbconvert_exporter": "python",
   "pygments_lexer": "ipython3",
   "version": "3.9.17"
  }
 },
 "nbformat": 4,
 "nbformat_minor": 2
}
